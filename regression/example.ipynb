{
 "cells": [
  {
   "cell_type": "code",
   "execution_count": 6,
   "metadata": {},
   "outputs": [],
   "source": [
    "def encrypt(sentence, shift):\n",
    "    encrypted_sentence = \"\"\n",
    "    for char in sentence:\n",
    "        if char.isalpha():\n",
    "            shifted = ord(char) + shift\n",
    "            if char.islower():\n",
    "                if shifted > ord('z'):\n",
    "                    shifted -= 26\n",
    "                elif shifted < ord('a'):\n",
    "                    shifted += 26\n",
    "            elif char.isupper():\n",
    "                if shifted > ord('Z'):\n",
    "                    shifted -= 26\n",
    "                elif shifted < ord('A'):\n",
    "                    shifted += 26\n",
    "            encrypted_sentence += chr(shifted)\n",
    "        else:\n",
    "            encrypted_sentence += char\n",
    "    return encrypted_sentence\n",
    "\n",
    "def decrypt(sentence, shift):\n",
    "    return encrypt(sentence, -shift)\n",
    "\n",
    "def main():\n",
    "    sentence = input(\"Enter a sentence to encrypt: \")\n",
    "    shift = int(input(\"Enter the shift value for encryption: \"))\n",
    "    \n",
    "    encrypted_sentence = encrypt(sentence, shift)\n",
    "    print(\"Encrypted sentence:\", encrypted_sentence)\n",
    "    \n",
    "    decrypted_sentence = decrypt(encrypted_sentence, shift)\n",
    "    print(\"Decrypted sentence:\", decrypted_sentence)\n"
   ]
  }
 ],
 "metadata": {
  "kernelspec": {
   "display_name": "machine_learning_basics",
   "language": "python",
   "name": "python3"
  },
  "language_info": {
   "codemirror_mode": {
    "name": "ipython",
    "version": 3
   },
   "file_extension": ".py",
   "mimetype": "text/x-python",
   "name": "python",
   "nbconvert_exporter": "python",
   "pygments_lexer": "ipython3",
   "version": "3.11.7"
  }
 },
 "nbformat": 4,
 "nbformat_minor": 2
}
